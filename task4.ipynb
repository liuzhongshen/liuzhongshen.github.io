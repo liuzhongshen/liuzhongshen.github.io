{
 "cells": [
  {
   "cell_type": "markdown",
   "metadata": {},
   "source": [
    "# 任务4 - 模型评估（2天）\n",
    "\n",
    "- 记录5个模型（逻辑回归、SVM、决策树、随机森林、XGBoost）\n",
    "- 关于accuracy、precision，recall和F1-score、auc值的评分表格"
   ]
  },
  {
   "cell_type": "code",
   "execution_count": 9,
   "metadata": {
    "collapsed": true
   },
   "outputs": [],
   "source": [
    "import numpy as np\n",
    "import pandas as pd\n",
    "data=pd.read_csv(r'data.csv',encoding='gbk')\n"
   ]
  },
  {
   "cell_type": "code",
   "execution_count": 10,
   "metadata": {
    "collapsed": false
   },
   "outputs": [],
   "source": [
    "# #分割数据集为训练集和测试集\n",
    "# from sklearn.model_selection import train_test_split\n",
    "# Y=data['status']\n",
    "# X=data.drop(['status'],axis=1)\n",
    "# X_train,X_test,y_train,y_test = train_test_split(X,Y,test_size=0.3,random_state=2018)\n"
   ]
  },
  {
   "cell_type": "code",
   "execution_count": 19,
   "metadata": {
    "collapsed": false
   },
   "outputs": [],
   "source": [
    "# #决策树算法和随机森林算法：\n",
    "# from sklearn.tree import DecisionTreeClassifier\n",
    "# from sklearn.ensemble import RandomForestClassifier\n",
    "\n",
    "# #导入模型评估分数， roc_auc_score--auc值  \n",
    "# from sklearn.metrics import accuracy_score,precision_score,recall_score,f1_score,roc_auc_score,roc_curve\n",
    "# import matplotlib.pyplot as plt\n",
    "# import seaborn as sns\n",
    "\n",
    "# model_list = [('dt',DecisionTreeClassifier()),('rf',RandomForestClassifier())]\n",
    "# score_list = [('准确率',accuracy_score),('精准率',precision_score),('召回率',recall_score),('F1-score',f1_score),('AUC值',roc_auc_score),('ROC',roc_curve)]\n",
    "\n",
    "# 导入库\n",
    "from sklearn.linear_model import LogisticRegression\n",
    "from sklearn.svm import LinearSVC\n",
    "from sklearn.tree import DecisionTreeClassifier\n",
    "from sklearn.ensemble import RandomForestClassifier\n",
    "from xgboost import XGBClassifier\n",
    "\n",
    "from sklearn.model_selection import RandomizedSearchCV,cross_val_predict\n",
    "from scipy.stats import uniform\n",
    "from sklearn import metrics\n",
    "from sklearn.metrics import accuracy_score,precision_score,recall_score,f1_score,roc_auc_score,roc_curve\n",
    "import matplotlib.pyplot as plt\n",
    "\n",
    "\n",
    "# 获取进行特征选择后的数据集\n",
    "\n",
    "x = data.iloc[:,:-1]\n",
    "y = data.iloc[:,-1]"
   ]
  },
  {
   "cell_type": "code",
   "execution_count": 20,
   "metadata": {
    "collapsed": false
   },
   "outputs": [
    {
     "ename": "ValueError",
     "evalue": "could not convert string to float: '2018/4/7'",
     "output_type": "error",
     "traceback": [
      "\u001b[0;31m---------------------------------------------------------------------------\u001b[0m",
      "\u001b[0;31mValueError\u001b[0m                                Traceback (most recent call last)",
      "\u001b[0;32m<ipython-input-20-0892d8c594dd>\u001b[0m in \u001b[0;36m<module>\u001b[0;34m()\u001b[0m\n\u001b[1;32m      6\u001b[0m \u001b[1;31m# 对训练数据集进行标准化处理\u001b[0m\u001b[1;33m\u001b[0m\u001b[1;33m\u001b[0m\u001b[0m\n\u001b[1;32m      7\u001b[0m \u001b[0mscaler\u001b[0m \u001b[1;33m=\u001b[0m \u001b[0mStandardScaler\u001b[0m\u001b[1;33m(\u001b[0m\u001b[1;33m)\u001b[0m\u001b[1;33m\u001b[0m\u001b[0m\n\u001b[0;32m----> 8\u001b[0;31m \u001b[0mx_train_standard\u001b[0m \u001b[1;33m=\u001b[0m \u001b[0mscaler\u001b[0m\u001b[1;33m.\u001b[0m\u001b[0mfit_transform\u001b[0m\u001b[1;33m(\u001b[0m\u001b[0mx_train\u001b[0m\u001b[1;33m)\u001b[0m\u001b[1;33m\u001b[0m\u001b[0m\n\u001b[0m\u001b[1;32m      9\u001b[0m \u001b[0mx_test_standard\u001b[0m \u001b[1;33m=\u001b[0m \u001b[0mscaler\u001b[0m\u001b[1;33m.\u001b[0m\u001b[0mfit_transform\u001b[0m\u001b[1;33m(\u001b[0m\u001b[0mx_test\u001b[0m\u001b[1;33m)\u001b[0m\u001b[1;33m\u001b[0m\u001b[0m\n",
      "\u001b[0;32mE:\\anaconda\\lib\\site-packages\\sklearn\\base.py\u001b[0m in \u001b[0;36mfit_transform\u001b[0;34m(self, X, y, **fit_params)\u001b[0m\n\u001b[1;32m    516\u001b[0m         \u001b[1;32mif\u001b[0m \u001b[0my\u001b[0m \u001b[1;32mis\u001b[0m \u001b[1;32mNone\u001b[0m\u001b[1;33m:\u001b[0m\u001b[1;33m\u001b[0m\u001b[0m\n\u001b[1;32m    517\u001b[0m             \u001b[1;31m# fit method of arity 1 (unsupervised transformation)\u001b[0m\u001b[1;33m\u001b[0m\u001b[1;33m\u001b[0m\u001b[0m\n\u001b[0;32m--> 518\u001b[0;31m             \u001b[1;32mreturn\u001b[0m \u001b[0mself\u001b[0m\u001b[1;33m.\u001b[0m\u001b[0mfit\u001b[0m\u001b[1;33m(\u001b[0m\u001b[0mX\u001b[0m\u001b[1;33m,\u001b[0m \u001b[1;33m**\u001b[0m\u001b[0mfit_params\u001b[0m\u001b[1;33m)\u001b[0m\u001b[1;33m.\u001b[0m\u001b[0mtransform\u001b[0m\u001b[1;33m(\u001b[0m\u001b[0mX\u001b[0m\u001b[1;33m)\u001b[0m\u001b[1;33m\u001b[0m\u001b[0m\n\u001b[0m\u001b[1;32m    519\u001b[0m         \u001b[1;32melse\u001b[0m\u001b[1;33m:\u001b[0m\u001b[1;33m\u001b[0m\u001b[0m\n\u001b[1;32m    520\u001b[0m             \u001b[1;31m# fit method of arity 2 (supervised transformation)\u001b[0m\u001b[1;33m\u001b[0m\u001b[1;33m\u001b[0m\u001b[0m\n",
      "\u001b[0;32mE:\\anaconda\\lib\\site-packages\\sklearn\\preprocessing\\data.py\u001b[0m in \u001b[0;36mfit\u001b[0;34m(self, X, y)\u001b[0m\n\u001b[1;32m    588\u001b[0m         \u001b[1;31m# Reset internal state before fitting\u001b[0m\u001b[1;33m\u001b[0m\u001b[1;33m\u001b[0m\u001b[0m\n\u001b[1;32m    589\u001b[0m         \u001b[0mself\u001b[0m\u001b[1;33m.\u001b[0m\u001b[0m_reset\u001b[0m\u001b[1;33m(\u001b[0m\u001b[1;33m)\u001b[0m\u001b[1;33m\u001b[0m\u001b[0m\n\u001b[0;32m--> 590\u001b[0;31m         \u001b[1;32mreturn\u001b[0m \u001b[0mself\u001b[0m\u001b[1;33m.\u001b[0m\u001b[0mpartial_fit\u001b[0m\u001b[1;33m(\u001b[0m\u001b[0mX\u001b[0m\u001b[1;33m,\u001b[0m \u001b[0my\u001b[0m\u001b[1;33m)\u001b[0m\u001b[1;33m\u001b[0m\u001b[0m\n\u001b[0m\u001b[1;32m    591\u001b[0m \u001b[1;33m\u001b[0m\u001b[0m\n\u001b[1;32m    592\u001b[0m     \u001b[1;32mdef\u001b[0m \u001b[0mpartial_fit\u001b[0m\u001b[1;33m(\u001b[0m\u001b[0mself\u001b[0m\u001b[1;33m,\u001b[0m \u001b[0mX\u001b[0m\u001b[1;33m,\u001b[0m \u001b[0my\u001b[0m\u001b[1;33m=\u001b[0m\u001b[1;32mNone\u001b[0m\u001b[1;33m)\u001b[0m\u001b[1;33m:\u001b[0m\u001b[1;33m\u001b[0m\u001b[0m\n",
      "\u001b[0;32mE:\\anaconda\\lib\\site-packages\\sklearn\\preprocessing\\data.py\u001b[0m in \u001b[0;36mpartial_fit\u001b[0;34m(self, X, y)\u001b[0m\n\u001b[1;32m    610\u001b[0m         \"\"\"\n\u001b[1;32m    611\u001b[0m         X = check_array(X, accept_sparse=('csr', 'csc'), copy=self.copy,\n\u001b[0;32m--> 612\u001b[0;31m                         warn_on_dtype=True, estimator=self, dtype=FLOAT_DTYPES)\n\u001b[0m\u001b[1;32m    613\u001b[0m \u001b[1;33m\u001b[0m\u001b[0m\n\u001b[1;32m    614\u001b[0m         \u001b[1;31m# Even in the case of `with_mean=False`, we update the mean anyway\u001b[0m\u001b[1;33m\u001b[0m\u001b[1;33m\u001b[0m\u001b[0m\n",
      "\u001b[0;32mE:\\anaconda\\lib\\site-packages\\sklearn\\utils\\validation.py\u001b[0m in \u001b[0;36mcheck_array\u001b[0;34m(array, accept_sparse, dtype, order, copy, force_all_finite, ensure_2d, allow_nd, ensure_min_samples, ensure_min_features, warn_on_dtype, estimator)\u001b[0m\n\u001b[1;32m    400\u001b[0m                                       force_all_finite)\n\u001b[1;32m    401\u001b[0m     \u001b[1;32melse\u001b[0m\u001b[1;33m:\u001b[0m\u001b[1;33m\u001b[0m\u001b[0m\n\u001b[0;32m--> 402\u001b[0;31m         \u001b[0marray\u001b[0m \u001b[1;33m=\u001b[0m \u001b[0mnp\u001b[0m\u001b[1;33m.\u001b[0m\u001b[0marray\u001b[0m\u001b[1;33m(\u001b[0m\u001b[0marray\u001b[0m\u001b[1;33m,\u001b[0m \u001b[0mdtype\u001b[0m\u001b[1;33m=\u001b[0m\u001b[0mdtype\u001b[0m\u001b[1;33m,\u001b[0m \u001b[0morder\u001b[0m\u001b[1;33m=\u001b[0m\u001b[0morder\u001b[0m\u001b[1;33m,\u001b[0m \u001b[0mcopy\u001b[0m\u001b[1;33m=\u001b[0m\u001b[0mcopy\u001b[0m\u001b[1;33m)\u001b[0m\u001b[1;33m\u001b[0m\u001b[0m\n\u001b[0m\u001b[1;32m    403\u001b[0m \u001b[1;33m\u001b[0m\u001b[0m\n\u001b[1;32m    404\u001b[0m         \u001b[1;32mif\u001b[0m \u001b[0mensure_2d\u001b[0m\u001b[1;33m:\u001b[0m\u001b[1;33m\u001b[0m\u001b[0m\n",
      "\u001b[0;31mValueError\u001b[0m: could not convert string to float: '2018/4/7'"
     ]
    }
   ],
   "source": [
    "from sklearn.model_selection import train_test_split\n",
    "from sklearn.preprocessing import StandardScaler\n",
    "\n",
    "x_train,x_test,y_train,y_test = train_test_split(x,y,test_size = 0.3,random_state=2018)\n",
    "\n",
    "# 对训练数据集进行标准化处理\n",
    "scaler = StandardScaler()\n",
    "x_train_standard = scaler.fit_transform(x_train)\n",
    "x_test_standard = scaler.fit_transform(x_test)\n"
   ]
  },
  {
   "cell_type": "code",
   "execution_count": null,
   "metadata": {
    "collapsed": false
   },
   "outputs": [],
   "source": [
    "def get_scores(label, y_train, y_test, y_train_predict, y_test_predict, y_train_proba, y_test_proba):\n",
    "    train_accuracy = metrics.accuracy_score(y_train, y_train_predict)\n",
    "    test_accuracy = metrics.accuracy_score(y_test, y_test_predict)\n",
    "    # 精准率\n",
    "    train_precision = metrics.precision_score(y_train, y_train_predict)\n",
    "    test_precision = metrics.precision_score(y_test, y_test_predict)\n",
    "    # 召回率\n",
    "    train_recall = metrics.recall_score(y_train, y_train_predict)\n",
    "    test_recall = metrics.recall_score(y_test, y_test_predict)\n",
    "    # F1-score\n",
    "    train_f1_score = metrics.f1_score(y_train, y_train_predict)\n",
    "    test_f1_score = metrics.f1_score(y_test, y_test_predict)\n",
    "    # AUC\n",
    "    train_auc = metrics.roc_auc_score(y_train, y_train_proba)\n",
    "    test_auc = metrics.roc_auc_score(y_test, y_test_proba)\n",
    "    # ROC\n",
    "    train_fprs, train_tprs, train_thresholds = metrics.roc_curve(y_train, y_train_proba)\n",
    "    test_fprs, test_tprs, test_thresholds = metrics.roc_curve(y_test, y_test_proba)\n",
    "    \n",
    "    plt.plot(train_fprs, train_tprs, label=label+' train ROC', linewidth=2)\n",
    "    plt.plot(test_fprs, test_tprs, label=label+' test ROC', linewidth=2)\n",
    "    plt.title(\"ROC Curve\")\n",
    "    plt.xlabel(\"FPR\")\n",
    "    plt.ylabel(\"TPR\")\n",
    "    plt.legend()\n",
    "    plt.show()\n",
    "    # 输出评分\n",
    "    print(\"训练集准确率：\", train_accuracy)\n",
    "    print(\"测试集准确率：\", test_accuracy)\n",
    "    print(\"训练集精准率：\", train_precision)\n",
    "    print(\"测试集精准率：\", test_precision)\n",
    "    print(\"训练集召回率：\", train_recall)\n",
    "    print(\"测试集召回率：\", test_recall)\n",
    "    print(\"训练集F1-score：\", train_f1_score)\n",
    "    print(\"测试集F1-score：\", test_f1_score)\n",
    "    print(\"训练集AUC：\", train_auc)\n",
    "    print(\"测试集AUC：\", test_auc)\n",
    "    \n",
    "    train = [train_accuracy, train_precision, train_recall, train_f1_score, train_auc]\n",
    "    test = [test_accuracy, test_precision, test_recall, test_f1_score, test_auc]\n",
    "    return train, test\n"
   ]
  },
  {
   "cell_type": "code",
   "execution_count": null,
   "metadata": {
    "collapsed": false
   },
   "outputs": [],
   "source": [
    "#SVM\n",
    "\n",
    "svm_linearSVC = LinearSVC(random_state=2018)\n",
    "svm_linearSVC.fit(x_train_standard, y_train)\n",
    "y_train_predict = svm_linearSVC.predict(x_train_standard)\n",
    "y_test_predict = svm_linearSVC.predict(x_test_standard)\n",
    "y_train_proba = svm_linearSVC.decision_function(x_train_standard)\n",
    "y_test_proba = svm_linearSVC.decision_function(x_test_standard)\n",
    "SVM_train, SVM_test = get_scores('SVM', y_train, y_test, y_train_predict, y_test_predict, y_train_proba, y_test_proba)\n"
   ]
  },
  {
   "cell_type": "code",
   "execution_count": null,
   "metadata": {
    "collapsed": true
   },
   "outputs": [],
   "source": [
    "# 决策树\n",
    "tree = DecisionTreeClassifier(random_state=2018)\n",
    "tree.fit(x_train_standard, y_train)\n",
    "y_train_predict = tree.predict(x_train_standard)\n",
    "y_test_predict = tree.predict(x_test_standard)\n",
    "y_train_proba = tree.predict_proba(x_train_standard)[:, 1]\n",
    "y_test_proba = tree.predict_proba(x_test_standard)[:, 1]\n",
    "DT_train, DT_test = get_scores('DT', y_train, y_test, y_train_predict, y_test_predict, y_train_proba, y_test_proba)\n",
    "\n"
   ]
  },
  {
   "cell_type": "code",
   "execution_count": null,
   "metadata": {
    "collapsed": true
   },
   "outputs": [],
   "source": [
    "# 随机森林\n",
    "rf = RandomForestClassifier(n_estimators=1000,criterion='gini',oob_score=True,\n",
    "                               random_state=2018,verbose=0,n_jobs=-1)\n",
    "rf.fit(x_train_standard, y_train)\n",
    "y_train_predict = rf.predict(x_train_standard)\n",
    "y_test_predict = rf.predict(x_test_standard)\n",
    "y_train_proba = rf.predict_proba(x_train_standard)[:, 1]\n",
    "y_test_proba = rf.predict_proba(x_test_standard)[:, 1]\n",
    "RM_train, RM_test = get_scores('RM', y_train, y_test, y_train_predict, y_test_predict, y_train_proba, y_test_proba)\n"
   ]
  },
  {
   "cell_type": "code",
   "execution_count": null,
   "metadata": {
    "collapsed": true
   },
   "outputs": [],
   "source": [
    "# XGboost\n",
    "xgb = XGBClassifier(random_state=2018)\n",
    "xgb.fit(x_train_standard, y_train)\n",
    "y_train_predict = xgb.predict(x_train_standard)\n",
    "y_test_predict = xgb.predict(x_test_standard)\n",
    "y_train_proba = xgb.predict_proba(x_train_standard)[:, 1]\n",
    "y_test_proba = xgb.predict_proba(x_test_standard)[:, 1]\n",
    "XGBoost_train, XGBoost_test = get_scores('XGBoost', y_train, y_test, y_train_predict, y_test_predict, y_train_proba, y_test_proba)\n"
   ]
  }
 ],
 "metadata": {
  "kernelspec": {
   "display_name": "Python [conda root]",
   "language": "python",
   "name": "conda-root-py"
  },
  "language_info": {
   "codemirror_mode": {
    "name": "ipython",
    "version": 3
   },
   "file_extension": ".py",
   "mimetype": "text/x-python",
   "name": "python",
   "nbconvert_exporter": "python",
   "pygments_lexer": "ipython3",
   "version": "3.5.2"
  }
 },
 "nbformat": 4,
 "nbformat_minor": 1
}
